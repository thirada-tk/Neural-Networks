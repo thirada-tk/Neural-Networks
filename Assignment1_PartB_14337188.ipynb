{
 "cells": [
  {
   "cell_type": "markdown",
   "metadata": {
    "id": "KNyZ-zZxlU6G"
   },
   "source": [
    "# Neural Networks with PyTorch\n",
    "\n",
    "_Thirada Tiamklang 14337188_\n",
    "\n",
    "In this assignment, we are going to train a Neural Networks on the Japanese MNIST dataset. It is composed of 70000 images of handwritten Hiragana characters. The target variables has 10 different classes.\n",
    "\n",
    "Each image is of dimension 28 by 28. But we will flatten them to form a dataset composed of vectors of dimension (784, 1). The training process will be similar as for a structured dataset.\n",
    "\n",
    "<img src='https://drive.google.com/uc?id=16TqEl9ESfXYbUpVafXD6h5UpJYGKfMxE' width=\"500\" height=\"200\">\n",
    "\n",
    "Your goal is to run at least 3 experiments and get a model that can achieve 80% accuracy with not much overfitting on this dataset.\n",
    "\n",
    "Some of the code have already been defined for you. You need only to add your code in the sections specified (marked with **TODO**). Some assert statements have been added to verify the expected outputs are correct. If it does throw an error, this means your implementation is behaving as expected.\n",
    "\n",
    "Note: You can only use fully-connected and dropout layers for this assignment. You can not convolution layers for instance"
   ]
  },
  {
   "cell_type": "markdown",
   "metadata": {
    "id": "iOufKqO8mw7n"
   },
   "source": [
    "# 1. Import Required Packages"
   ]
  },
  {
   "cell_type": "markdown",
   "metadata": {
    "id": "b-sGJ26pmz4A"
   },
   "source": [
    "[1.1] We are going to use numpy, matplotlib and google.colab packages"
   ]
  },
  {
   "cell_type": "code",
   "execution_count": null,
   "metadata": {
    "id": "oTGG80etnMAa"
   },
   "outputs": [],
   "source": [
    "from google.colab import drive\n",
    "import numpy as np\n",
    "import matplotlib.pyplot as plt"
   ]
  },
  {
   "cell_type": "markdown",
   "metadata": {
    "id": "Vyky0K3fnEFO"
   },
   "source": [
    "# 2. Download Dataset\n",
    "\n",
    "We will store the dataset into your personal Google Drive.\n"
   ]
  },
  {
   "cell_type": "markdown",
   "metadata": {
    "id": "ltUMtjG-nX-b"
   },
   "source": [
    "[2.1] Mount Google Drive"
   ]
  },
  {
   "cell_type": "code",
   "execution_count": null,
   "metadata": {
    "id": "N_FVrXICnMJM"
   },
   "outputs": [],
   "source": [
    "drive.mount('/content/gdrive')"
   ]
  },
  {
   "cell_type": "markdown",
   "metadata": {
    "id": "CzLtlKCHnT9H"
   },
   "source": [
    "[2.2] Create a folder called `DL_ASG_1` on your Google Drive at the root level"
   ]
  },
  {
   "cell_type": "code",
   "execution_count": null,
   "metadata": {
    "id": "XZicoPks4POW"
   },
   "outputs": [],
   "source": [
    "! mkdir -p /content/gdrive/MyDrive/DL_ASG_1"
   ]
  },
  {
   "cell_type": "markdown",
   "metadata": {
    "id": "sToej_3CnePP"
   },
   "source": [
    "[2.3] Navigate to this folder"
   ]
  },
  {
   "cell_type": "code",
   "execution_count": null,
   "metadata": {
    "id": "g2oAXToKnpXj"
   },
   "outputs": [],
   "source": [
    "%cd '/content/gdrive/MyDrive/DL_ASG_1'"
   ]
  },
  {
   "cell_type": "markdown",
   "metadata": {
    "id": "TnRHIyhlzUwL"
   },
   "source": [
    "[2.4] Show the list of item on the folder"
   ]
  },
  {
   "cell_type": "code",
   "execution_count": null,
   "metadata": {
    "id": "Y-xYtezBzQ0c"
   },
   "outputs": [],
   "source": [
    "!ls"
   ]
  },
  {
   "cell_type": "markdown",
   "metadata": {
    "id": "3vlfobqnnjJ1"
   },
   "source": [
    "[2.4] Dowload the dataset files to your Google Drive if required"
   ]
  },
  {
   "cell_type": "code",
   "execution_count": null,
   "metadata": {
    "id": "M0owzTC427NM"
   },
   "outputs": [],
   "source": [
    "import requests\n",
    "from tqdm import tqdm\n",
    "import os.path\n",
    "\n",
    "def download_file(url):\n",
    "    path = url.split('/')[-1]\n",
    "    if os.path.isfile(path):\n",
    "        print (f\"{path} already exists\")\n",
    "    else:\n",
    "      r = requests.get(url, stream=True)\n",
    "      with open(path, 'wb') as f:\n",
    "          total_length = int(r.headers.get('content-length'))\n",
    "          print('Downloading {} - {:.1f} MB'.format(path, (total_length / 1024000)))\n",
    "          for chunk in tqdm(r.iter_content(chunk_size=1024), total=int(total_length / 1024) + 1, unit=\"KB\"):\n",
    "              if chunk:\n",
    "                  f.write(chunk)\n",
    "\n",
    "url_list = [\n",
    "    'http://codh.rois.ac.jp/kmnist/dataset/kmnist/kmnist-train-imgs.npz',\n",
    "    'http://codh.rois.ac.jp/kmnist/dataset/kmnist/kmnist-train-labels.npz',\n",
    "    'http://codh.rois.ac.jp/kmnist/dataset/kmnist/kmnist-test-imgs.npz',\n",
    "    'http://codh.rois.ac.jp/kmnist/dataset/kmnist/kmnist-test-labels.npz'\n",
    "]\n",
    "\n",
    "for url in url_list:\n",
    "    download_file(url)"
   ]
  },
  {
   "cell_type": "markdown",
   "metadata": {
    "id": "DVF_Cx7Hny2i"
   },
   "source": [
    "[2.5] List the content of the folder and confirm files have been dowloaded properly"
   ]
  },
  {
   "cell_type": "code",
   "execution_count": null,
   "metadata": {
    "id": "vt6ZKf4fnqkq"
   },
   "outputs": [],
   "source": [
    "! ls"
   ]
  },
  {
   "cell_type": "markdown",
   "metadata": {
    "id": "fvvfOON36hTf"
   },
   "source": [
    "# 3. Load Data"
   ]
  },
  {
   "cell_type": "markdown",
   "metadata": {
    "id": "duFjgsyPoLPR"
   },
   "source": [
    "[3.1] Import the required modules from PyTorch"
   ]
  },
  {
   "cell_type": "code",
   "execution_count": 6,
   "metadata": {
    "id": "1zolHKEO7GZA"
   },
   "outputs": [],
   "source": [
    "# TODO (Students need to fill this section)\n",
    "import torch\n",
    "import torch.nn as nn\n",
    "import torch.nn.functional as F\n",
    "import torch.optim as optim\n",
    "from torchvision import datasets, transforms\n",
    "from torch.utils.data import DataLoader, TensorDataset"
   ]
  },
  {
   "cell_type": "markdown",
   "metadata": {
    "id": "r4Aw5ObQoWdI"
   },
   "source": [
    "[3.2] **TODO** Create 2 variables called `img_height` and `img_width` that will both take the value 28"
   ]
  },
  {
   "cell_type": "code",
   "execution_count": 7,
   "metadata": {
    "id": "Ip0NFeyjpj79"
   },
   "outputs": [],
   "source": [
    "# TODO (Students need to fill this section)\n",
    "img_height = 28\n",
    "img_width = 28"
   ]
  },
  {
   "cell_type": "markdown",
   "metadata": {
    "id": "hmX5SEHkpp63"
   },
   "source": [
    "[3.3] Create a function that loads a .npz file using numpy and return the content of the `arr_0` key"
   ]
  },
  {
   "cell_type": "code",
   "execution_count": null,
   "metadata": {
    "id": "5S3cthx57L2f"
   },
   "outputs": [],
   "source": [
    "def load(f):\n",
    "    return np.load(f)['arr_0']"
   ]
  },
  {
   "cell_type": "markdown",
   "metadata": {
    "id": "8V2Ij9s7qRtj"
   },
   "source": [
    "[3.4] **TODO** Load the 4 files saved on your Google Drive into their respective variables: x_train, y_train, x_test and y_test"
   ]
  },
  {
   "cell_type": "code",
   "execution_count": null,
   "metadata": {
    "id": "5XTkRb0lqpEE"
   },
   "outputs": [],
   "source": [
    "# TODO (Students need to fill this section)\n",
    "x_train = load('kmnist-train-imgs.npz')\n",
    "x_test = load('kmnist-test-imgs.npz')\n",
    "y_train = load('kmnist-train-labels.npz')\n",
    "y_test = load('kmnist-test-labels.npz')"
   ]
  },
  {
   "cell_type": "markdown",
   "metadata": {
    "id": "3KC12nB7rlbV"
   },
   "source": [
    "[3.5] **TODO** Using matplotlib display the first image from the train set and its target value"
   ]
  },
  {
   "cell_type": "code",
   "execution_count": 8,
   "metadata": {
    "id": "AOtWg7bBrwmV"
   },
   "outputs": [
    {
     "data": {
      "image/png": "[encoded data removed]",
      "text/plain": [
       "<Figure size 640x480 with 1 Axes>"
      ]
     },
     "metadata": {},
     "output_type": "display_data"
    }
   ],
   "source": [
    "# TODO (Students need to fill this section)\n",
    "plt.imshow(x_train[0].reshape(img_height, img_width))\n",
    "plt.show()"
   ]
  },
  {
   "cell_type": "markdown",
   "metadata": {
    "id": "htLk_27ir0B1"
   },
   "source": [
    "# 4. Prepare Data"
   ]
  },
  {
   "cell_type": "markdown",
   "metadata": {
    "id": "VJEBe30Er33P"
   },
   "source": [
    "[4.1] **TODO** Reshape the images from the training and testing set to have the channel dimension last. The dimensions should be: (row_number, height, width, channel)"
   ]
  },
  {
   "cell_type": "code",
   "execution_count": 9,
   "metadata": {
    "id": "1yqWleZasxdR"
   },
   "outputs": [],
   "source": [
    "# TODO (Students need to fill this section)\n",
    "x_train = x_train.reshape(x_train.shape[0], img_height, img_width, 1)\n",
    "x_test = x_test.reshape(x_test.shape[0], img_height, img_width, 1)"
   ]
  },
  {
   "cell_type": "markdown",
   "metadata": {
    "id": "F2f6wvFys2ZI"
   },
   "source": [
    "[4.2] **TODO** Cast `x_train` and `x_test` into `float32` decimals"
   ]
  },
  {
   "cell_type": "code",
   "execution_count": 10,
   "metadata": {
    "id": "FWZmWe73tLXT"
   },
   "outputs": [],
   "source": [
    "# TODO (Students need to fill this section)\n",
    "x_train = x_train.astype('float32')\n",
    "x_test = x_test.astype('float32')"
   ]
  },
  {
   "cell_type": "markdown",
   "metadata": {
    "id": "Z-1Jr0pKs6jv"
   },
   "source": [
    "[4.3] **TODO** Standardise the images of the training and testing sets. Originally each image contains pixels with value ranging from 0 to 255. after standardisation, the new value range should be from 0 to 1."
   ]
  },
  {
   "cell_type": "code",
   "execution_count": 11,
   "metadata": {
    "id": "RXY1o272t0JO"
   },
   "outputs": [],
   "source": [
    "# TODO (Students need to fill this section)\n",
    "x_train /= 255\n",
    "x_test /= 255"
   ]
  },
  {
   "cell_type": "markdown",
   "metadata": {
    "id": "9eH4aZmXt7Fe"
   },
   "source": [
    "[4.4] **TODO** Create a variable called `num_classes` that will take the value 10 which corresponds to the number of classes for the target variable"
   ]
  },
  {
   "cell_type": "code",
   "execution_count": 12,
   "metadata": {
    "id": "gTnMgLxYuUs6"
   },
   "outputs": [],
   "source": [
    "# TODO (Students need to fill this section)\n",
    "num_classes = 10"
   ]
  },
  {
   "cell_type": "markdown",
   "metadata": {
    "id": "iAy0fUJsuyhb"
   },
   "source": [
    "[4.5] **TODO** Convert the target variable for the training and testing sets to a binary class matrix of dimension (rows, num_classes).\n",
    "\n",
    "For example:\n",
    "- class 0 will become [1, 0, 0, 0, 0, 0, 0, 0, 0, 0]\n",
    "- class 1 will become [0, 1, 0, 0, 0, 0, 0, 0, 0, 0]\n",
    "- class 5 will become [0, 0, 0, 0, 0, 1, 0, 0, 0, 0]\n",
    "- class 9 will become [0, 0, 0, 0, 0, 0, 0, 0, 0, 1]"
   ]
  },
  {
   "cell_type": "code",
   "execution_count": 13,
   "metadata": {
    "id": "ysNg37Ukwq8S"
   },
   "outputs": [],
   "source": [
    "# TODO (Students need to fill this section)\n",
    "# Convert target variables to one-hot encoded tensors\n",
    "y_train = torch.eye(num_classes)[torch.tensor(y_train, dtype=torch.long)]\n",
    "y_test = torch.eye(num_classes)[torch.tensor(y_test, dtype=torch.long)]"
   ]
  },
  {
   "cell_type": "markdown",
   "metadata": {
    "id": "0OCorS00wxPN"
   },
   "source": [
    "# 5. Define Neural Networks Architecure"
   ]
  },
  {
   "cell_type": "markdown",
   "metadata": {
    "id": "7G_L-yqTxI1d"
   },
   "source": [
    "[5.1] Set the seed in PyTorch for reproducing results\n",
    "\n"
   ]
  },
  {
   "cell_type": "code",
   "execution_count": 14,
   "metadata": {
    "id": "XB8OIC9wrgFG"
   },
   "outputs": [
    {
     "data": {
      "text/plain": [
       "<torch._C.Generator at 0x7f87c0101030>"
      ]
     },
     "execution_count": 14,
     "metadata": {},
     "output_type": "execute_result"
    }
   ],
   "source": [
    "# TODO (Students need to fill this section)\n",
    "torch.manual_seed(42)"
   ]
  },
  {
   "cell_type": "markdown",
   "metadata": {
    "id": "5b93U4MixWeE"
   },
   "source": [
    "[5.2] **TODO** Define the architecture of your Neural Networks and save it into a variable called `model`"
   ]
  },
  {
   "cell_type": "markdown",
   "metadata": {
    "id": "n2tti1Zw6JYk"
   },
   "source": [
    "----------------------------------------------\n",
    "__Experiment 1__ :\n",
    "\n",
    "_1 hidden layers and dropout rate = 0.5_"
   ]
  },
  {
   "cell_type": "code",
   "execution_count": 27,
   "metadata": {
    "id": "gq1f74uKxpkp"
   },
   "outputs": [],
   "source": [
    "# TODO (Students need to fill this section)\n",
    "class NeuralNetwork(nn.Module):\n",
    "    def __init__(self, input_size, hidden_size1, num_classes, dropout_rate=0.5):\n",
    "        super(NeuralNetwork, self).__init__()\n",
    "        self.fc1 = nn.Linear(input_size, hidden_size1)\n",
    "        self.dropout = nn.Dropout(dropout_rate)\n",
    "        self.fc2 = nn.Linear(hidden_size1, num_classes)\n",
    "\n",
    "    def forward(self, x):\n",
    "        x = x.view(x.size(0), -1)  # Flatten the input\n",
    "        x = F.relu(self.fc1(x))\n",
    "        x = self.dropout(x)  # Apply dropout\n",
    "        x = self.fc2(x)\n",
    "        return x\n",
    "\n",
    "# Define the input size, hidden size, and number of classes\n",
    "input_size = 784  # 28x28\n",
    "hidden_size1 = 128\n",
    "num_classes = 10\n",
    "dropout_rate = 0.5\n",
    "\n",
    "# Create an instance of the model\n",
    "model1 = NeuralNetwork(input_size, hidden_size1, num_classes, dropout_rate)"
   ]
  },
  {
   "cell_type": "markdown",
   "metadata": {
    "id": "0IvuMQ81xu5U"
   },
   "source": [
    "[5.2] **TODO** Print the summary of your model"
   ]
  },
  {
   "cell_type": "code",
   "execution_count": 16,
   "metadata": {
    "id": "Kefe5IbfrPMk"
   },
   "outputs": [
    {
     "name": "stdout",
     "output_type": "stream",
     "text": [
      "NeuralNetwork(\n",
      "  (fc1): Linear(in_features=784, out_features=128, bias=True)\n",
      "  (dropout): Dropout(p=0.5, inplace=False)\n",
      "  (fc2): Linear(in_features=128, out_features=10, bias=True)\n",
      ")\n"
     ]
    }
   ],
   "source": [
    "# TODO (Students need to fill this section)\n",
    "device = 'cuda' if torch.cuda.is_available() else 'cpu'\n",
    "model1.to(device)\n",
    "print(model1)"
   ]
  },
  {
   "cell_type": "markdown",
   "metadata": {
    "id": "MwaNwN5weysE"
   },
   "source": [
    "--------\n",
    "__Experiment 2__:\n",
    "\n",
    "_1 hidden layers and dropout rate = 0.1_"
   ]
  },
  {
   "cell_type": "code",
   "execution_count": 46,
   "metadata": {},
   "outputs": [],
   "source": [
    "# TODO (Students need to fill this section)\n",
    "class NeuralNetwork(nn.Module):\n",
    "    def __init__(self, input_size, hidden_size1, num_classes, dropout_rate2=0.1):\n",
    "        super(NeuralNetwork, self).__init__()\n",
    "        self.fc1 = nn.Linear(input_size, hidden_size1)\n",
    "        self.dropout = nn.Dropout(dropout_rate2)\n",
    "        self.fc2 = nn.Linear(hidden_size1, num_classes)\n",
    "\n",
    "    def forward(self, x):\n",
    "        x = x.view(x.size(0), -1)  # Flatten the input\n",
    "        x = F.relu(self.fc1(x))\n",
    "        x = self.dropout(x)  # Apply dropout\n",
    "        x = self.fc2(x)\n",
    "        return x\n",
    "\n",
    "# Define the input size, hidden size, and number of classes\n",
    "input_size = 784  # 28x28\n",
    "hidden_size1 = 128\n",
    "num_classes = 10\n",
    "dropout_rate2 = 0.1\n",
    "\n",
    "# Create an instance of the model\n",
    "model2 = NeuralNetwork(input_size, hidden_size1, num_classes, dropout_rate2)"
   ]
  },
  {
   "cell_type": "code",
   "execution_count": 93,
   "metadata": {
    "id": "gBRm-h5dxvIw"
   },
   "outputs": [
    {
     "name": "stdout",
     "output_type": "stream",
     "text": [
      "NeuralNetwork(\n",
      "  (fc1): Linear(in_features=784, out_features=128, bias=True)\n",
      "  (dropout): Dropout(p=0.1, inplace=False)\n",
      "  (fc2): Linear(in_features=128, out_features=10, bias=True)\n",
      ")\n"
     ]
    }
   ],
   "source": [
    "# TODO (Students need to fill this section)\n",
    "model2.to(device)\n",
    "print(model2)"
   ]
  },
  {
   "cell_type": "markdown",
   "metadata": {
    "id": "uezR-0G9SH9l"
   },
   "source": [
    "------\n",
    "__Experiment 3__:\n",
    "\n",
    "_2 hidden layers and dropout rate = 0.1_"
   ]
  },
  {
   "cell_type": "code",
   "execution_count": 48,
   "metadata": {
    "id": "KfFBTsunSJzo"
   },
   "outputs": [],
   "source": [
    "# TODO (Students need to fill this section)\n",
    "class NeuralNetwork(nn.Module):\n",
    "    def __init__(self, input_size, hidden_size1, hidden_size2, num_classes, dropout_rate3=0.1):\n",
    "        super(NeuralNetwork, self).__init__()\n",
    "        self.fc1 = nn.Linear(input_size, hidden_size1)\n",
    "        self.fc2 = nn.Linear(hidden_size1, hidden_size2)  # New hidden layer\n",
    "        self.fc3 = nn.Linear(hidden_size2, num_classes)\n",
    "        self.dropout = nn.Dropout(dropout_rate3)\n",
    "\n",
    "    def forward(self, x):\n",
    "        x = x.view(x.size(0), -1)  # Flatten the input\n",
    "        x = F.relu(self.fc1(x))\n",
    "        x = self.dropout(x)  # Apply dropout\n",
    "        x = F.relu(self.fc2(x))  # New hidden layer with ReLU activation\n",
    "        x = self.dropout(x)  # Apply dropout\n",
    "        x = self.fc3(x)\n",
    "        return x\n",
    "\n",
    "# Define the input size, hidden sizes, and number of classes\n",
    "input_size = 784  # 28x28\n",
    "hidden_size1 = 256\n",
    "hidden_size2 = 128  # Size of the new hidden layer\n",
    "num_classes = 10\n",
    "dropout_rate3 = 0.1\n",
    "\n",
    "# Create an instance of the model\n",
    "model3 = NeuralNetwork(input_size, hidden_size1, hidden_size2, num_classes, dropout_rate3)"
   ]
  },
  {
   "cell_type": "code",
   "execution_count": 49,
   "metadata": {
    "id": "zAm0N33MSXe1"
   },
   "outputs": [
    {
     "name": "stdout",
     "output_type": "stream",
     "text": [
      "NeuralNetwork(\n",
      "  (fc1): Linear(in_features=784, out_features=256, bias=True)\n",
      "  (fc2): Linear(in_features=256, out_features=128, bias=True)\n",
      "  (fc3): Linear(in_features=128, out_features=10, bias=True)\n",
      "  (dropout): Dropout(p=0.1, inplace=False)\n",
      ")\n"
     ]
    }
   ],
   "source": [
    "model3.to(device)\n",
    "print(model3)"
   ]
  },
  {
   "cell_type": "markdown",
   "metadata": {
    "id": "UUFqIGUskgjP"
   },
   "source": [
    "---\n",
    "__Experiment 4__:\n",
    "\n",
    "_3 hidden layers and dropout rate = 0.1_"
   ]
  },
  {
   "cell_type": "code",
   "execution_count": 30,
   "metadata": {
    "id": "RRQxIT7Wkj4U"
   },
   "outputs": [],
   "source": [
    "class NeuralNetwork(nn.Module):\n",
    "    def __init__(self, input_size, hidden_size1, hidden_size2, hidden_size3, num_classes, dropout_rate4=0.1):\n",
    "        super(NeuralNetwork, self).__init__()\n",
    "        self.fc1 = nn.Linear(input_size, hidden_size1)\n",
    "        self.fc2 = nn.Linear(hidden_size1, hidden_size2)  # New hidden layer 1\n",
    "        self.fc3 = nn.Linear(hidden_size2, hidden_size3)  # New hidden layer 2\n",
    "        self.fc4 = nn.Linear(hidden_size3, num_classes)\n",
    "        self.dropout = nn.Dropout(dropout_rate4)\n",
    "\n",
    "    def forward(self, x):\n",
    "        x = x.view(x.size(0), -1)  # Flatten the input\n",
    "        x = F.relu(self.fc1(x))\n",
    "        x = self.dropout(x)  # Apply dropout\n",
    "        x = F.relu(self.fc2(x))  # New hidden layer 1 with ReLU activation\n",
    "        x = self.dropout(x)  # Apply dropout\n",
    "        x = F.relu(self.fc3(x))  # New hidden layer 2 with ReLU activation\n",
    "        x = self.dropout(x)  # Apply dropout\n",
    "        x = self.fc4(x)\n",
    "        return x\n",
    "\n",
    "# Define the input size, hidden sizes, and number of classes\n",
    "input_size = 784  # 28x28\n",
    "hidden_size1 = 512\n",
    "hidden_size2 = 256  # Size of the new hidden layer 1\n",
    "hidden_size3 = 128  # Size of the new hidden layer 2\n",
    "num_classes = 10\n",
    "dropout_rate4 = 0.1\n",
    "\n",
    "# Create an instance of the model\n",
    "model4 = NeuralNetwork(input_size, hidden_size1, hidden_size2, hidden_size3, num_classes, dropout_rate4)\n"
   ]
  },
  {
   "cell_type": "code",
   "execution_count": 22,
   "metadata": {
    "id": "zWYx7BpAmq_K"
   },
   "outputs": [
    {
     "name": "stdout",
     "output_type": "stream",
     "text": [
      "NeuralNetwork(\n",
      "  (fc1): Linear(in_features=784, out_features=512, bias=True)\n",
      "  (fc2): Linear(in_features=512, out_features=256, bias=True)\n",
      "  (fc3): Linear(in_features=256, out_features=128, bias=True)\n",
      "  (fc4): Linear(in_features=128, out_features=10, bias=True)\n",
      "  (dropout): Dropout(p=0.1, inplace=False)\n",
      ")\n"
     ]
    }
   ],
   "source": [
    "model4.to(device)\n",
    "print(model4)"
   ]
  },
  {
   "cell_type": "markdown",
   "metadata": {
    "id": "sOPTnNxtx6MC"
   },
   "source": [
    "# 6. Train Neural Networks"
   ]
  },
  {
   "cell_type": "markdown",
   "metadata": {
    "id": "fsHJzhnAyP4H"
   },
   "source": [
    "[6.1] **TODO** Create 2 variables called `batch_size` and `epochs` that will  respectively take the values 128 and 500"
   ]
  },
  {
   "cell_type": "code",
   "execution_count": 23,
   "metadata": {
    "id": "hNe_Cia0yde-"
   },
   "outputs": [],
   "source": [
    "# TODO (Students need to fill this section)\n",
    "batch_size = 128\n",
    "epochs = 500"
   ]
  },
  {
   "cell_type": "markdown",
   "metadata": {
    "id": "4-bAkzwXyjAs"
   },
   "source": [
    "[6.2] **TODO** Compile your model with the appropriate loss function, the optimiser of your choice and the accuracy metric"
   ]
  },
  {
   "cell_type": "code",
   "execution_count": 94,
   "metadata": {
    "id": "0WnNAYT6yjci"
   },
   "outputs": [],
   "source": [
    "# TODO (Students need to fill this section)\n",
    "weight_decay = 0.001\n",
    "\n",
    "criterion = nn.CrossEntropyLoss()\n",
    "optimizer1 = optim.Adam(model1.parameters(), lr=0.0001, weight_decay=weight_decay)\n",
    "optimizer2 = optim.Adam(model2.parameters(), lr=0.0001, weight_decay=weight_decay)\n",
    "optimizer3 = optim.SGD(model3.parameters(), lr=0.001, momentum=0.9, weight_decay=weight_decay)\n",
    "optimizer4 = optim.SGD(model4.parameters(), lr=0.001, momentum=0.9, weight_decay=weight_decay)"
   ]
  },
  {
   "cell_type": "markdown",
   "metadata": {
    "id": "iRvM_pEZy7SX"
   },
   "source": [
    "[6.3] **TODO** Train your model\n",
    "using the number of epochs defined. Calculate the total loss and save it to a variable called total_loss."
   ]
  },
  {
   "cell_type": "code",
   "execution_count": 25,
   "metadata": {
    "id": "EMzFo2r5JKn6"
   },
   "outputs": [],
   "source": [
    "# TODO (Students need to fill this section)\n",
    "from torch.utils.data import TensorDataset, DataLoader\n",
    "\n",
    "# Convert training and testing data to tensors\n",
    "x_train_tensor = torch.tensor(x_train)\n",
    "x_test_tensor = torch.tensor(x_test)\n",
    "\n",
    "# Create TensorDataset objects\n",
    "train_dataset = TensorDataset(x_train_tensor, y_train)\n",
    "test_dataset = TensorDataset(x_test_tensor, y_test)\n",
    "\n",
    "# Create DataLoader objects\n",
    "dataloader_train = DataLoader(train_dataset, batch_size=batch_size, shuffle=True)\n",
    "dataloader_test = DataLoader(test_dataset, batch_size=batch_size, shuffle=True)"
   ]
  },
  {
   "cell_type": "markdown",
   "metadata": {
    "id": "KQ1EqmK9eV12"
   },
   "source": [
    "---\n",
    "__Experiment 1__:\n",
    "\n",
    "_using Adam optimizer, lr=0.0001, and weight_decay = 0.001_"
   ]
  },
  {
   "cell_type": "code",
   "execution_count": 32,
   "metadata": {
    "id": "ZxDGanc5KREI"
   },
   "outputs": [
    {
     "name": "stdout",
     "output_type": "stream",
     "text": [
      "Epoch [100/500], Loss: 0.2272\n",
      "Epoch [200/500], Loss: 0.2413\n",
      "Epoch [300/500], Loss: 0.3179\n",
      "Epoch [400/500], Loss: 0.1890\n",
      "Epoch [500/500], Loss: 0.2779\n"
     ]
    }
   ],
   "source": [
    "# Train model1\n",
    "total_loss_list1 = []\n",
    "for epoch in range(epochs):\n",
    "    total_loss1 = 0\n",
    "    for data, target in dataloader_train:\n",
    "        data = data.to(device)  # Move data to the same device as the model\n",
    "        target = target.to(device)  # Move target to the same device as the model\n",
    "        optimizer1.zero_grad() #Zero gradients\n",
    "        outputs = model1(data) # Forward Propagation to get predicted outcome\n",
    "        loss = criterion(outputs, target) # Compute the loss\n",
    "        loss.backward()  # Back propagation\n",
    "        optimizer1.step()  # Update the weights\n",
    "        total_loss1 += loss.item()\n",
    "\n",
    "    total_loss1 /= len(dataloader_train)\n",
    "\n",
    "    if (epoch + 1) % 100 == 0:\n",
    "        print(f'Epoch [{epoch+1}/{epochs}], Loss: {loss.item():.4f}')\n",
    "        total_loss_list1.append(total_loss1)"
   ]
  },
  {
   "cell_type": "code",
   "execution_count": 33,
   "metadata": {
    "id": "R6fUU3yXUV9r"
   },
   "outputs": [
    {
     "name": "stdout",
     "output_type": "stream",
     "text": [
      "Experiment1 Training Accuracy: 0.9309\n"
     ]
    }
   ],
   "source": [
    "# Calculate average training accuracy\n",
    "correct_train1 = 0\n",
    "total_train1 = 0\n",
    "with torch.no_grad():\n",
    "    for data, target in dataloader_train:\n",
    "        data = data.to(device)\n",
    "        target = target.to(device)\n",
    "        outputs1 = model1(data)\n",
    "        _, predicted_train = torch.max(outputs1, 1)\n",
    "        _, target_labels_train = torch.max(target, 1)\n",
    "        correct_train1 += (predicted_train == target_labels_train).sum().item()\n",
    "        total_train1 += target.size(0)\n",
    "train_accuracy1 = correct_train1 / total_train1\n",
    "print(f'Experiment1 Training Accuracy: {train_accuracy1:.4f}')"
   ]
  },
  {
   "cell_type": "markdown",
   "metadata": {
    "id": "emZ5Ayr88PZh"
   },
   "source": [
    "[6.4] **TODO** Test your model.  Initiate the model.eval() along with torch.no_grad() to turn off the gradients.\n"
   ]
  },
  {
   "cell_type": "code",
   "execution_count": 34,
   "metadata": {
    "id": "bfvBZ3zy8QM9"
   },
   "outputs": [
    {
     "name": "stdout",
     "output_type": "stream",
     "text": [
      "Experiment1 Test Accuracy: 0.8662\n"
     ]
    }
   ],
   "source": [
    "# TODO (Students need to fill this section)\n",
    "# Set the model to evaluation mode\n",
    "model1.eval()\n",
    "\n",
    "# Initialize variables for accuracy calculation\n",
    "correct1 = 0\n",
    "total1 = 0\n",
    "\n",
    "# Turn off gradient computation for testing\n",
    "with torch.no_grad():\n",
    "    for i, (data, target) in enumerate(dataloader_test):\n",
    "        data = data.to(device)  # Move data to the same device as the model\n",
    "        target = target.to(device)  # Move target to the same device as the model\n",
    "\n",
    "        # Forward pass\n",
    "        outputs1 = model1(data)\n",
    "\n",
    "        # Calculate accuracy\n",
    "        _, predicted = torch.max(outputs1, 1)\n",
    "        _, target_labels = torch.max(target, 1)  # Convert one-hot encoded labels to class indices\n",
    "\n",
    "        correct1 += (predicted == target_labels).sum().item()\n",
    "        total1 += target.size(0)\n",
    "\n",
    "# Calculate accuracy\n",
    "accuracy1 = correct1 / total1\n",
    "print(f'Experiment1 Test Accuracy: {accuracy1:.4f}')"
   ]
  },
  {
   "cell_type": "markdown",
   "metadata": {
    "id": "67OJMyrofKfw"
   },
   "source": [
    "---\n",
    "__Experiment2__:\n",
    "\n",
    "_using Adam optimizer, lr=0.0001, and weight_decay = 0.001_"
   ]
  },
  {
   "cell_type": "code",
   "execution_count": 95,
   "metadata": {
    "id": "c39wiVRxfJ0h"
   },
   "outputs": [
    {
     "name": "stdout",
     "output_type": "stream",
     "text": [
      "Epoch [100/500], Loss: 0.0513\n",
      "Epoch [200/500], Loss: 0.0512\n",
      "Epoch [300/500], Loss: 0.1141\n",
      "Epoch [400/500], Loss: 0.0625\n",
      "Epoch [500/500], Loss: 0.0673\n"
     ]
    }
   ],
   "source": [
    "# Train model2\n",
    "total_loss_list2 = []\n",
    "for epoch in range(epochs):\n",
    "    total_loss2 = 0\n",
    "    for data, target in dataloader_train:\n",
    "        data = data.to(device)  # Move data to the same device as the model\n",
    "        target = target.to(device)  # Move target to the same device as the model\n",
    "        optimizer2.zero_grad() #Zero gradients\n",
    "        outputs2 = model2(data) # Forward Propagation to get predicted outcome\n",
    "        loss2 = criterion(outputs2, target) # Compute the loss\n",
    "        loss2.backward()  # Back propagation\n",
    "        optimizer2.step()  # Update weight\n",
    "        total_loss2 += loss2.item()\n",
    "\n",
    "    total_loss2 /= len(dataloader_train)\n",
    "\n",
    "    if (epoch + 1) % 100 == 0:\n",
    "        print(f'Epoch [{epoch+1}/{epochs}], Loss: {loss2.item():.4f}')\n",
    "        total_loss_list2.append(total_loss2)"
   ]
  },
  {
   "cell_type": "code",
   "execution_count": 96,
   "metadata": {
    "id": "Tc55bN1Vi6pj"
   },
   "outputs": [
    {
     "name": "stdout",
     "output_type": "stream",
     "text": [
      "Experiment2 Training Accuracy: 0.9904\n"
     ]
    }
   ],
   "source": [
    "# Calculate ex2 training accuracy\n",
    "correct_train2 = 0\n",
    "total_train2 = 0\n",
    "with torch.no_grad():\n",
    "    for data, target in dataloader_train:\n",
    "        data = data.to(device)\n",
    "        target = target.to(device)\n",
    "        outputs2 = model2(data)\n",
    "        _, predicted_train2 = torch.max(outputs2, 1)\n",
    "        _, target_labels_train2 = torch.max(target, 1)\n",
    "        correct_train2 += (predicted_train2 == target_labels_train2).sum().item()\n",
    "        total_train2 += target.size(0)\n",
    "train_accuracy2 = correct_train2 / total_train2\n",
    "print(f'Experiment2 Training Accuracy: {train_accuracy2:.4f}')"
   ]
  },
  {
   "cell_type": "code",
   "execution_count": 97,
   "metadata": {
    "id": "nMNposOWjby_"
   },
   "outputs": [
    {
     "name": "stdout",
     "output_type": "stream",
     "text": [
      "Experiment2 Test Accuracy: 0.9044\n"
     ]
    }
   ],
   "source": [
    "# Set the model to evaluation mode\n",
    "model2.eval()\n",
    "correct2 = 0\n",
    "total2 = 0\n",
    "# Turn off gradient computation for testing\n",
    "with torch.no_grad():\n",
    "    for i, (data, target) in enumerate(dataloader_test):\n",
    "        data = data.to(device)  # Move data to the same device as the model\n",
    "        target = target.to(device)  # Move target to the same device as the model\n",
    "        outputs2 = model2(data)\n",
    "        # Calculate accuracy\n",
    "        _, predicted2 = torch.max(outputs2, 1)\n",
    "        _, target_labels2 = torch.max(target, 1)  # Convert one-hot encoded labels to class indices\n",
    "\n",
    "        correct2 += (predicted2 == target_labels2).sum().item()\n",
    "        total2 += target.size(0)\n",
    "\n",
    "# Calculate accuracy\n",
    "accuracy2 = correct2 / total2\n",
    "print(f'Experiment2 Test Accuracy: {accuracy2:.4f}')"
   ]
  },
  {
   "cell_type": "markdown",
   "metadata": {
    "id": "tI4bfDavUARP"
   },
   "source": [
    "---\n",
    "__Experiment 3__:\n",
    "\n",
    "_using SGD optimizer with momentum = 0.9, lr=0.001, weight_decay = 0.001, and early stopping_"
   ]
  },
  {
   "cell_type": "code",
   "execution_count": 58,
   "metadata": {
    "id": "zsMkz8QyUCzD"
   },
   "outputs": [
    {
     "name": "stdout",
     "output_type": "stream",
     "text": [
      "Epoch [100/500], Loss: 0.1124\n",
      "Epoch [200/500], Loss: 0.0661\n",
      "Epoch [300/500], Loss: 0.0351\n",
      "Epoch [400/500], Loss: 0.0320\n",
      "Epoch [500/500], Loss: 0.0317\n"
     ]
    }
   ],
   "source": [
    "# Define early stopping parameters\n",
    "patience = 10\n",
    "best_loss = float('inf')\n",
    "early_stopping_counter = 0\n",
    "\n",
    "# Train model3\n",
    "total_loss_list3 = []\n",
    "for epoch in range(epochs):\n",
    "    total_loss3 = 0\n",
    "    for data, target in dataloader_train:\n",
    "        data = data.to(device)  # Move data to the same device as the model\n",
    "        target = target.to(device)  # Move target to the same device as the model\n",
    "        optimizer3.zero_grad() #Zero gradients\n",
    "        outputs3 = model3(data) # Forward Propagation to get predicted outcome\n",
    "        loss3 = criterion(outputs3, target) # Compute the loss\n",
    "        loss3.backward()  # Back propagation\n",
    "        optimizer3.step()  # Update weight\n",
    "        total_loss3 += loss3.item()\n",
    "\n",
    "    total_loss3 /= len(dataloader_train)\n",
    "\n",
    "    if (epoch + 1) % 100 == 0:\n",
    "        print(f'Epoch [{epoch+1}/{epochs}], Loss: {loss3.item():.4f}')\n",
    "        total_loss_list3.append(total_loss3)"
   ]
  },
  {
   "cell_type": "code",
   "execution_count": 59,
   "metadata": {
    "id": "429g1juuUt_V"
   },
   "outputs": [
    {
     "name": "stdout",
     "output_type": "stream",
     "text": [
      "Experiment3 Training Accuracy: 0.9935\n"
     ]
    }
   ],
   "source": [
    "# Calculate ex3 training accuracy\n",
    "correct_train3 = 0\n",
    "total_train3 = 0\n",
    "with torch.no_grad():\n",
    "    for data, target in dataloader_train:\n",
    "        data = data.to(device)\n",
    "        target = target.to(device)\n",
    "        outputs3 = model3(data)\n",
    "        _, predicted_train3 = torch.max(outputs3, 1)\n",
    "        _, target_labels_train3 = torch.max(target, 1)\n",
    "        correct_train3 += (predicted_train3 == target_labels_train3).sum().item()\n",
    "        total_train3 += target.size(0)\n",
    "train_accuracy3 = correct_train3 / total_train3\n",
    "print(f'Experiment3 Training Accuracy: {train_accuracy3:.4f}')"
   ]
  },
  {
   "cell_type": "code",
   "execution_count": 60,
   "metadata": {
    "id": "wK5viWREU-k5"
   },
   "outputs": [
    {
     "name": "stdout",
     "output_type": "stream",
     "text": [
      "Experiment3 Test Accuracy: 0.9067\n"
     ]
    }
   ],
   "source": [
    "# Set the model to evaluation mode\n",
    "model3.eval()\n",
    "correct3 = 0\n",
    "total3 = 0\n",
    "# Turn off gradient computation for testing\n",
    "with torch.no_grad():\n",
    "    for i, (data, target) in enumerate(dataloader_test):\n",
    "        data = data.to(device)  # Move data to the same device as the model\n",
    "        target = target.to(device)  # Move target to the same device as the model\n",
    "        outputs3 = model3(data)\n",
    "        # Calculate accuracy\n",
    "        _, predicted3 = torch.max(outputs3, 1)\n",
    "        _, target_labels3 = torch.max(target, 1)  # Convert one-hot encoded labels to class indices\n",
    "\n",
    "        correct3 += (predicted3 == target_labels3).sum().item()\n",
    "        total3 += target.size(0)\n",
    "\n",
    "# Calculate accuracy\n",
    "accuracy3 = correct3 / total3\n",
    "print(f'Experiment3 Test Accuracy: {accuracy3:.4f}')"
   ]
  },
  {
   "cell_type": "markdown",
   "metadata": {
    "id": "-tHdIhM6nJ-N"
   },
   "source": [
    "---\n",
    "__Experiment 4__:\n",
    "\n",
    "_using SGD optimizer with momentum = 0.9, lr=0.001, weight_decay = 0.001, and early stopping_"
   ]
  },
  {
   "cell_type": "code",
   "execution_count": 64,
   "metadata": {
    "id": "j4KYqUoZnLqi"
   },
   "outputs": [
    {
     "name": "stdout",
     "output_type": "stream",
     "text": [
      "Epoch [100/500], Loss: 0.0714\n",
      "Epoch [200/500], Loss: 0.0379\n",
      "Epoch [300/500], Loss: 0.0286\n",
      "Epoch [400/500], Loss: 0.0077\n",
      "Epoch [500/500], Loss: 0.0329\n"
     ]
    }
   ],
   "source": [
    "# Define early stopping parameters\n",
    "patience = 10\n",
    "best_loss = float('inf')\n",
    "early_stopping_counter = 0\n",
    "\n",
    "# Train model4\n",
    "total_loss_list4 = []\n",
    "for epoch in range(epochs):\n",
    "    total_loss4 = 0\n",
    "    for data, target in dataloader_train:\n",
    "        data = data.to(device)  # Move data to the same device as the model\n",
    "        target = target.to(device)  # Move target to the same device as the model\n",
    "        optimizer4.zero_grad() #Zero gradients\n",
    "        outputs4 = model4(data) # Forward Propagation to get predicted outcome\n",
    "        loss4 = criterion(outputs4, target) # Compute the loss\n",
    "        loss4.backward()  # Back propagation\n",
    "        optimizer4.step()  # Update weight\n",
    "        total_loss4 += loss4.item()\n",
    "\n",
    "    total_loss4 /= len(dataloader_train)\n",
    "\n",
    "    if (epoch + 1) % 100 == 0:\n",
    "        print(f'Epoch [{epoch+1}/{epochs}], Loss: {loss4.item():.4f}')\n",
    "        total_loss_list4.append(total_loss4)"
   ]
  },
  {
   "cell_type": "code",
   "execution_count": 65,
   "metadata": {
    "id": "uBYwvrdTqEYK"
   },
   "outputs": [
    {
     "name": "stdout",
     "output_type": "stream",
     "text": [
      "Experiment4 Training Accuracy: 0.9989\n"
     ]
    }
   ],
   "source": [
    "# Calculate ex4 training accuracy\n",
    "correct_train4 = 0\n",
    "total_train4 = 0\n",
    "with torch.no_grad():\n",
    "    for data, target in dataloader_train:\n",
    "        data = data.to(device)\n",
    "        target = target.to(device)\n",
    "        outputs4 = model4(data)\n",
    "        _, predicted_train4 = torch.max(outputs4, 1)\n",
    "        _, target_labels_train4 = torch.max(target, 1)\n",
    "        correct_train4 += (predicted_train4 == target_labels_train4).sum().item()\n",
    "        total_train4 += target.size(0)\n",
    "train_accuracy4 = correct_train4 / total_train4\n",
    "print(f'Experiment4 Training Accuracy: {train_accuracy4:.4f}')"
   ]
  },
  {
   "cell_type": "code",
   "execution_count": 66,
   "metadata": {
    "id": "NlfqKkC2qLin"
   },
   "outputs": [
    {
     "name": "stdout",
     "output_type": "stream",
     "text": [
      "Experiment4 Test Accuracy: 0.9058\n"
     ]
    }
   ],
   "source": [
    "# Set the model to evaluation mode\n",
    "model4.eval()\n",
    "correct4 = 0\n",
    "total4 = 0\n",
    "# Turn off gradient computation for testing\n",
    "with torch.no_grad():\n",
    "    for i, (data, target) in enumerate(dataloader_test):\n",
    "        data = data.to(device)  # Move data to the same device as the model\n",
    "        target = target.to(device)  # Move target to the same device as the model\n",
    "        outputs4 = model4(data)\n",
    "        # Calculate accuracy\n",
    "        _, predicted4 = torch.max(outputs4, 1)\n",
    "        _, target_labels4 = torch.max(target, 1)  # Convert one-hot encoded labels to class indices\n",
    "\n",
    "        correct4 += (predicted4 == target_labels4).sum().item()\n",
    "        total4 += target.size(0)\n",
    "\n",
    "# Calculate accuracy\n",
    "accuracy4 = correct4 / total4\n",
    "print(f'Experiment4 Test Accuracy: {accuracy4:.4f}')"
   ]
  },
  {
   "cell_type": "markdown",
   "metadata": {
    "id": "vz9uFy_X6oeA"
   },
   "source": [
    "# 7. Analyse Results"
   ]
  },
  {
   "cell_type": "markdown",
   "metadata": {
    "id": "-XI7_ve3glw1"
   },
   "source": [
    "__Experiment 1__"
   ]
  },
  {
   "cell_type": "markdown",
   "metadata": {
    "id": "ddugPZhZ68Wb"
   },
   "source": [
    "[7.1] **TODO** Display the performance of your model on the training and testing sets"
   ]
  },
  {
   "cell_type": "code",
   "execution_count": 35,
   "metadata": {
    "id": "yihZIPZ_6sql"
   },
   "outputs": [
    {
     "name": "stdout",
     "output_type": "stream",
     "text": [
      "Experiment1 Training Accuracy: 0.9309\n",
      "Experiment1 Test Accuracy: 0.8662\n"
     ]
    }
   ],
   "source": [
    "# TODO (Students need to fill this section)\n",
    "print(f'Experiment1 Training Accuracy: {train_accuracy1:.4f}')\n",
    "print(f'Experiment1 Test Accuracy: {accuracy1:.4f}')"
   ]
  },
  {
   "cell_type": "markdown",
   "metadata": {
    "id": "iBTo_xEI7K_z"
   },
   "source": [
    "[7.2] **TODO** Plot the learning curve of your model"
   ]
  },
  {
   "cell_type": "code",
   "execution_count": 40,
   "metadata": {
    "id": "jRt_4W2F7RVV"
   },
   "outputs": [
    {
     "data": {
      "image/png": "[encoded data removed]",
      "text/plain": [
       "<Figure size 640x480 with 1 Axes>"
      ]
     },
     "metadata": {},
     "output_type": "display_data"
    }
   ],
   "source": [
    "# TODO (Students need to fill this section)\n",
    "# Plotting the learning curve\n",
    "plt.plot(range(1, epochs + 1, 100), total_loss_list1)\n",
    "plt.ylabel(\"total_loss\")\n",
    "plt.xlabel('Epoch')\n",
    "plt.title('Learning Curve')\n",
    "plt.show()"
   ]
  },
  {
   "cell_type": "markdown",
   "metadata": {
    "id": "qKPu98GR7a17"
   },
   "source": [
    "[7.3] **TODO** Display the confusion matrix on the testing set predictions"
   ]
  },
  {
   "cell_type": "code",
   "execution_count": 42,
   "metadata": {
    "id": "TkrP9JCgMzpT"
   },
   "outputs": [
    {
     "data": {
      "image/png": "[encoded data removed]",
      "text/plain": [
       "<Figure size 1000x800 with 1 Axes>"
      ]
     },
     "metadata": {},
     "output_type": "display_data"
    }
   ],
   "source": [
    "# TODO (Students need to fill this section)\n",
    "from sklearn.metrics import confusion_matrix\n",
    "conf_matrix = confusion_matrix(target_labels, predicted)\n",
    "# Import the packages for plotting the graph\n",
    "import matplotlib.pyplot as plt\n",
    "import seaborn as sns\n",
    "# Plotting the confusion matrix\n",
    "plt.figure(figsize=(10, 8))\n",
    "sns.heatmap(conf_matrix, annot=True, fmt='d', cmap='Blues', cbar=False)\n",
    "plt.xlabel('Predicted labels')\n",
    "plt.ylabel('True labels')\n",
    "plt.title('Confusion Matrix')\n",
    "plt.show()"
   ]
  },
  {
   "cell_type": "markdown",
   "metadata": {
    "id": "D-GoCxRonmHb"
   },
   "source": [
    "---\n",
    "__Experiment 2__"
   ]
  },
  {
   "cell_type": "code",
   "execution_count": 98,
   "metadata": {
    "id": "d3-fxVxMnkyz"
   },
   "outputs": [
    {
     "name": "stdout",
     "output_type": "stream",
     "text": [
      "Experiment2 Training Accuracy: 0.9904\n",
      "Experiment2 Test Accuracy: 0.9044\n"
     ]
    }
   ],
   "source": [
    "# TODO (Students need to fill this section)\n",
    "print(f'Experiment2 Training Accuracy: {train_accuracy2:.4f}')\n",
    "print(f'Experiment2 Test Accuracy: {accuracy2:.4f}')"
   ]
  },
  {
   "cell_type": "code",
   "execution_count": 111,
   "metadata": {
    "id": "fyjJFqRJnrLe"
   },
   "outputs": [
    {
     "data": {
      "image/png": "[encoded data removed]",
      "text/plain": [
       "<Figure size 640x480 with 1 Axes>"
      ]
     },
     "metadata": {},
     "output_type": "display_data"
    }
   ],
   "source": [
    "# Plotting the learning curve\n",
    "plt.plot(range(1, epochs + 1, 100), total_loss_list2)\n",
    "plt.ylabel(\"total_loss\")\n",
    "plt.xlabel('Epoch')\n",
    "plt.title('Learning Curve')\n",
    "plt.show()"
   ]
  },
  {
   "cell_type": "code",
   "execution_count": 110,
   "metadata": {
    "id": "Smyq2iEon56j"
   },
   "outputs": [
    {
     "data": {
      "image/png": "[encoded data removed]",
      "text/plain": [
       "<Figure size 1000x800 with 1 Axes>"
      ]
     },
     "metadata": {},
     "output_type": "display_data"
    }
   ],
   "source": [
    "# Plotting the confusion matrix\n",
    "# Calculate the confusion matrix\n",
    "conf_matrix2 = confusion_matrix(target_labels2, predicted2)\n",
    "# Plotting the confusion matrix\n",
    "plt.figure(figsize=(10, 8))\n",
    "sns.heatmap(conf_matrix2, annot=True, fmt='d', cmap='Blues', cbar=False)\n",
    "plt.xlabel('Predicted labels')\n",
    "plt.ylabel('True labels')\n",
    "plt.title('Confusion Matrix')\n",
    "plt.show()"
   ]
  },
  {
   "cell_type": "markdown",
   "metadata": {
    "id": "OdgFwlLqjO0Q"
   },
   "source": [
    "---\n",
    "__Experiment 3__"
   ]
  },
  {
   "cell_type": "code",
   "execution_count": 61,
   "metadata": {
    "id": "skoFtep2jQTg"
   },
   "outputs": [
    {
     "name": "stdout",
     "output_type": "stream",
     "text": [
      "Experiment3 Training Accuracy: 0.9935\n",
      "Experiment3 Test Accuracy: 0.9067\n"
     ]
    }
   ],
   "source": [
    "# TODO (Students need to fill this section)\n",
    "print(f'Experiment3 Training Accuracy: {train_accuracy3:.4f}')\n",
    "print(f'Experiment3 Test Accuracy: {accuracy3:.4f}')"
   ]
  },
  {
   "cell_type": "code",
   "execution_count": 62,
   "metadata": {
    "id": "zGMkQRscjVQj"
   },
   "outputs": [
    {
     "data": {
      "image/png": "[encoded data removed]",
      "text/plain": [
       "<Figure size 640x480 with 1 Axes>"
      ]
     },
     "metadata": {},
     "output_type": "display_data"
    }
   ],
   "source": [
    "# Plotting the learning curve\n",
    "plt.plot(range(1, epochs + 1, 100), total_loss_list3)\n",
    "plt.ylabel(\"total_loss\")\n",
    "plt.xlabel('Epoch')\n",
    "plt.title('Learning Curve')\n",
    "plt.show()"
   ]
  },
  {
   "cell_type": "code",
   "execution_count": 63,
   "metadata": {
    "id": "4jYxDLPyjfL6"
   },
   "outputs": [
    {
     "data": {
      "image/png": "[encoded data removed]",
      "text/plain": [
       "<Figure size 1000x800 with 1 Axes>"
      ]
     },
     "metadata": {},
     "output_type": "display_data"
    }
   ],
   "source": [
    "# Plotting the confusion matrix\n",
    "# Calculate the confusion matrix\n",
    "conf_matrix3 = confusion_matrix(target_labels3, predicted3)\n",
    "# Plotting the confusion matrix\n",
    "plt.figure(figsize=(10, 8))\n",
    "sns.heatmap(conf_matrix3, annot=True, fmt='d', cmap='Blues', cbar=False)\n",
    "plt.xlabel('Predicted labels')\n",
    "plt.ylabel('True labels')\n",
    "plt.title('Confusion Matrix')\n",
    "plt.show()"
   ]
  },
  {
   "cell_type": "markdown",
   "metadata": {
    "id": "0Ss51fcT0vYW"
   },
   "source": [
    "---\n",
    "__Experiment 4__"
   ]
  },
  {
   "cell_type": "code",
   "execution_count": 67,
   "metadata": {
    "id": "wOYRyIdw0xkR"
   },
   "outputs": [
    {
     "name": "stdout",
     "output_type": "stream",
     "text": [
      "Experiment4 Training Accuracy: 0.9989\n",
      "Experiment4 Test Accuracy: 0.9058\n"
     ]
    }
   ],
   "source": [
    "# TODO (Students need to fill this section)\n",
    "print(f'Experiment4 Training Accuracy: {train_accuracy4:.4f}')\n",
    "print(f'Experiment4 Test Accuracy: {accuracy4:.4f}')"
   ]
  },
  {
   "cell_type": "code",
   "execution_count": 68,
   "metadata": {
    "id": "hZ72or1l02la"
   },
   "outputs": [
    {
     "data": {
      "image/png": "[encoded data removed]",
      "text/plain": [
       "<Figure size 640x480 with 1 Axes>"
      ]
     },
     "metadata": {},
     "output_type": "display_data"
    }
   ],
   "source": [
    "# Plotting the learning curve\n",
    "plt.plot(range(1, epochs + 1, 100), total_loss_list4)\n",
    "plt.ylabel(\"total_loss\")\n",
    "plt.xlabel('Epoch')\n",
    "plt.title('Learning Curve')\n",
    "plt.show()"
   ]
  },
  {
   "cell_type": "code",
   "execution_count": 69,
   "metadata": {
    "id": "gI-oh3Gi09YB"
   },
   "outputs": [
    {
     "data": {
      "image/png": "[encoded data removed]",
      "text/plain": [
       "<Figure size 1000x800 with 1 Axes>"
      ]
     },
     "metadata": {},
     "output_type": "display_data"
    }
   ],
   "source": [
    "# Plotting the confusion matrix\n",
    "# Calculate the confusion matrix\n",
    "conf_matrix4 = confusion_matrix(target_labels4, predicted4)\n",
    "# Plotting the confusion matrix\n",
    "plt.figure(figsize=(10, 8))\n",
    "sns.heatmap(conf_matrix4, annot=True, fmt='d', cmap='Blues', cbar=False)\n",
    "plt.xlabel('Predicted labels')\n",
    "plt.ylabel('True labels')\n",
    "plt.title('Confusion Matrix')\n",
    "plt.show()"
   ]
  },
  {
   "cell_type": "markdown",
   "metadata": {
    "id": "Bh20IRoc1S2s"
   },
   "source": [
    "---\n",
    "## Conclusion"
   ]
  },
  {
   "cell_type": "code",
   "execution_count": 112,
   "metadata": {
    "id": "IdlIClxw1WAj"
   },
   "outputs": [
    {
     "data": {
      "image/png": "[encoded data removed]",
      "text/plain": [
       "<Figure size 1000x600 with 1 Axes>"
      ]
     },
     "metadata": {},
     "output_type": "display_data"
    }
   ],
   "source": [
    "import numpy as np\n",
    "import matplotlib.pyplot as plt\n",
    "\n",
    "# Define the accuracy scores for each experiment\n",
    "experiment_names = ['Experiment1', 'Experiment2', 'Experiment3', 'Experiment4']\n",
    "train_accuracies = [train_accuracy1, train_accuracy2, train_accuracy3, train_accuracy4]\n",
    "test_accuracies = [accuracy1, accuracy2, accuracy3, accuracy4]\n",
    "\n",
    "# Set the width of the bars\n",
    "bar_width = 0.35\n",
    "\n",
    "# Set the positions of the bars on the x-axis\n",
    "r1 = np.arange(len(experiment_names))\n",
    "r2 = [x + bar_width for x in r1]\n",
    "\n",
    "# Plotting the bar chart\n",
    "plt.figure(figsize=(10, 6))\n",
    "plt.bar(r1, train_accuracies, color='#D3B4E7', width=bar_width, edgecolor='grey', label='Training Accuracy')\n",
    "plt.bar(r2, test_accuracies, color='#987654', width=bar_width, edgecolor='grey', label='Test Accuracy')\n",
    "\n",
    "# Add accuracy score labels to each bar\n",
    "for i in range(len(experiment_names)):\n",
    "    plt.text(r1[i] - 0.05, train_accuracies[i] + 0.01, f'{train_accuracies[i]:.4f}', color='black')\n",
    "    plt.text(r2[i] - 0.05, test_accuracies[i] + 0.01, f'{test_accuracies[i]:.4f}', color='black')\n",
    "\n",
    "# Add xticks on the middle of the group bars\n",
    "plt.xlabel('Experiment', fontweight='bold')\n",
    "plt.ylabel('Accuracy', fontweight='bold')\n",
    "plt.xticks([r + bar_width / 2 for r in range(len(experiment_names))], experiment_names)\n",
    "plt.title('Training and Test Accuracy for Each Experiment')\n",
    "plt.legend()\n",
    "\n",
    "# Show plot\n",
    "plt.xticks(rotation=45)\n",
    "plt.show()\n"
   ]
  }
 ],
 "metadata": {
  "accelerator": "GPU",
  "colab": {
   "private_outputs": true,
   "provenance": []
  },
  "kernelspec": {
   "display_name": "Python 3 (ipykernel)",
   "language": "python",
   "name": "python3"
  },
  "language_info": {
   "codemirror_mode": {
    "name": "ipython",
    "version": 3
   },
   "file_extension": ".py",
   "mimetype": "text/x-python",
   "name": "python",
   "nbconvert_exporter": "python",
   "pygments_lexer": "ipython3",
   "version": "3.10.9"
  }
 },
 "nbformat": 4,
 "nbformat_minor": 4
}
