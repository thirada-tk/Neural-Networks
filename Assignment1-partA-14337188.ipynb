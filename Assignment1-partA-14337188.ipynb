{
  "cells": [
    {
      "cell_type": "markdown",
      "metadata": {
        "id": "-kcF6GRPRK8Z"
      },
      "source": [
        "# Perceptron from scratch\n",
        "\n",
        "In this assignment, we will be reimplementing a Neural Networks from scratch.\n",
        "\n",
        "In part A, we are going to build a simple Perceptron on a small dataset that contains only 3 features.\n",
        "\n",
        "<img src='https://drive.google.com/uc?id=1aUtXFBMKUumwfZ-2jmR5SIvNYPaD-t2x' width=\"500\" height=\"250\">\n",
        "\n",
        "Some of the code have already been defined for you. You need only to add your code in the sections specified (marked with **TODO**). Some assert statements have been added to verify the expected outputs are correct. If it does throw an error, this means your implementation is behaving as expected.\n",
        "\n",
        "Note: You are only allowed to use Numpy and Pandas packages for the implemention of Perceptron. You can not packages such as Sklearn or Tensorflow."
      ]
    },
    {
      "cell_type": "markdown",
      "metadata": {
        "id": "wUg1PkpnZAya"
      },
      "source": [
        "# 1. Import Required Packages\n",
        "\n",
        "[1.1] We are going to use numpy and random packages"
      ]
    },
    {
      "cell_type": "code",
      "execution_count": 1,
      "metadata": {
        "id": "2rit905Vv-4-"
      },
      "outputs": [],
      "source": [
        "import numpy as np\n",
        "import random"
      ]
    },
    {
      "cell_type": "markdown",
      "metadata": {
        "id": "oFznxXvATvMo"
      },
      "source": [
        "# 2. Define Dataset\n",
        "\n",
        "[2.1] We are going to use a simple dataset containing 3 features and 7 observations. The target variable is a binary outcome (either 0 or 1)"
      ]
    },
    {
      "cell_type": "code",
      "execution_count": 2,
      "metadata": {
        "id": "CPN-_r8FLCgS"
      },
      "outputs": [],
      "source": [
        "input_set = np.array([[0,1,0], [0,0,1], [1,0,0], [1,1,0], [1,1,1], [0,1,1], [0,1,0]])\n",
        "labels = np.array([[1], [0], [0], [1], [1], [0], [1]])"
      ]
    },
    {
      "cell_type": "markdown",
      "metadata": {
        "id": "SyYmv5E0T3XP"
      },
      "source": [
        "# 3. Set Initial Parameters"
      ]
    },
    {
      "cell_type": "markdown",
      "metadata": {
        "id": "W9kp1UWFUc9N"
      },
      "source": [
        "[3.1] Let's set the seed in order to have reproducible outcomes"
      ]
    },
    {
      "cell_type": "code",
      "execution_count": 3,
      "metadata": {
        "id": "RgolHUMVT8GA"
      },
      "outputs": [],
      "source": [
        "np.random.seed(42)"
      ]
    },
    {
      "cell_type": "markdown",
      "metadata": {
        "id": "5BFSPtVAUpf-"
      },
      "source": [
        "[3.2] **TODO**: Define a function that will create a Numpy array of a given shape with random values.\n",
        "\n",
        "\n",
        "For example, `initialise_array(3,1)` will return an array of dimensions (3,1)that can look like this (values may be different):\n",
        "\n",
        "\n",
        "`array([[0.37454012],\n",
        "       [0.95071431],\n",
        "       [0.73199394]])`"
      ]
    },
    {
      "cell_type": "code",
      "execution_count": 4,
      "metadata": {
        "id": "p_dorRcqVYCT"
      },
      "outputs": [],
      "source": [
        "# TODO (Students need to fill this section)\n",
        "def initialise_array(shape):\n",
        "    return np.random.rand(*shape)"
      ]
    },
    {
      "cell_type": "markdown",
      "metadata": {
        "id": "tRQW2pyTXHL7"
      },
      "source": [
        "[3.3] **TODO**: Create a Numpy array of shape (3,1) called `init_weights` filled with random values using `initialise_array()` and print them."
      ]
    },
    {
      "cell_type": "code",
      "execution_count": 5,
      "metadata": {
        "id": "SKg1QtPdXlQW"
      },
      "outputs": [
        {
          "name": "stdout",
          "output_type": "stream",
          "text": [
            "[[0.37454012]\n",
            " [0.95071431]\n",
            " [0.73199394]]\n"
          ]
        }
      ],
      "source": [
        "# TODO (Students need to fill this section)\n",
        "init_weights = initialise_array((3, 1))\n",
        "print(init_weights)"
      ]
    },
    {
      "cell_type": "markdown",
      "metadata": {
        "id": "yhl-s-nNXzWL"
      },
      "source": [
        "[3.4] **TODO**: Create a Numpy array of shape (1,) called `init_bias` filled with a random value using `initialise_array()` and print it."
      ]
    },
    {
      "cell_type": "code",
      "execution_count": 6,
      "metadata": {
        "id": "7GWLGBDDX6Ge"
      },
      "outputs": [
        {
          "name": "stdout",
          "output_type": "stream",
          "text": [
            "[0.59865848]\n"
          ]
        }
      ],
      "source": [
        "# TODO (Students need to fill this section)\n",
        "init_bias = initialise_array((1,))\n",
        "print(init_bias)"
      ]
    },
    {
      "cell_type": "markdown",
      "metadata": {
        "id": "-o3y_gmFX9U3"
      },
      "source": [
        "[3.5] Assert statements to check your created variables have the expected shapes"
      ]
    },
    {
      "cell_type": "code",
      "execution_count": 7,
      "metadata": {
        "id": "6ZKdef3yWpXh"
      },
      "outputs": [],
      "source": [
        "assert init_weights.shape == (3, 1)\n",
        "assert init_bias.shape == (1,)"
      ]
    },
    {
      "cell_type": "markdown",
      "metadata": {
        "id": "PcWYiiMWYRET"
      },
      "source": [
        "# 4. Define Linear Function\n",
        "In this section we are going to implement the linear function of a neuron:\n",
        "\n",
        "<img src='https://drive.google.com/uc?id=1vhfpGffqletFDzMIvWkCMR2jrHE5MBy5' width=\"500\" height=\"300\">"
      ]
    },
    {
      "cell_type": "markdown",
      "metadata": {
        "id": "6LX0Yn_OYw3V"
      },
      "source": [
        "[4.1] **TODO**: Define a function that will perform a dot product on the provided X and weights and add the bias to it"
      ]
    },
    {
      "cell_type": "code",
      "execution_count": 8,
      "metadata": {
        "id": "ZKx_OQKnZ2UH"
      },
      "outputs": [],
      "source": [
        "# TODO (Students need to fill this section)\n",
        "def linear(X, weights, bias):\n",
        "    return np.dot(X, weights) + bias"
      ]
    },
    {
      "cell_type": "markdown",
      "metadata": {
        "id": "wIhdbPD8bayw"
      },
      "source": [
        "[4.2] Assert statements to check your linear function is behaving as expected"
      ]
    },
    {
      "cell_type": "code",
      "execution_count": 9,
      "metadata": {
        "id": "BF7DDft0aOPU"
      },
      "outputs": [],
      "source": [
        "test_weights = [[0.37454012],[0.95071431],[0.73199394]]\n",
        "test_bias = [0.59865848]\n",
        "assert linear(X=input_set[0], weights=test_weights, bias=test_bias)[0] == 1.54937279\n",
        "assert linear(X=input_set[1], weights=test_weights, bias=test_bias)[0] == 1.3306524199999998\n",
        "assert linear(X=input_set[2], weights=test_weights, bias=test_bias)[0] == 0.9731985999999999\n",
        "assert linear(X=input_set[3], weights=test_weights, bias=test_bias)[0] == 1.9239129099999999\n",
        "assert linear(X=input_set[4], weights=test_weights, bias=test_bias)[0] == 2.65590685\n",
        "assert linear(X=input_set[5], weights=test_weights, bias=test_bias)[0] == 2.28136673\n",
        "assert linear(X=input_set[6], weights=test_weights, bias=test_bias)[0] == 1.54937279"
      ]
    },
    {
      "cell_type": "markdown",
      "metadata": {
        "id": "aPU5Rq62blmE"
      },
      "source": [
        "# 5. Activation Function\n",
        "\n",
        "In the forward pass, an activation function is applied on the result of the linear function. We are going to implement the sigmoid function and its derivative:\n",
        "\n",
        "<img src='https://drive.google.com/uc?id=1LK7yjCp4KBICYNvTXzILQUzQbkm7G9xC' width=\"200\" height=\"100\">\n",
        "<img src='https://drive.google.com/uc?id=1f5jUyw0wgiVufNqveeJVZnQc6pOrDJXD' width=\"300\" height=\"100\">\n"
      ]
    },
    {
      "cell_type": "markdown",
      "metadata": {
        "id": "rYZHAb-RdNck"
      },
      "source": [
        "[5.1] **TODO**: Define a function that will implement the sigmoid function"
      ]
    },
    {
      "cell_type": "code",
      "execution_count": 10,
      "metadata": {
        "id": "fmqOuw4afvrH"
      },
      "outputs": [],
      "source": [
        "# TODO (Students need to fill this section)\n",
        "def sigmoid(x):\n",
        "    return 1 / (1 + np.exp(-x))"
      ]
    },
    {
      "cell_type": "markdown",
      "metadata": {
        "id": "AsWa4glVf4zB"
      },
      "source": [
        "[5.2] Assert statements to check your sigmoid function is behaving as expected"
      ]
    },
    {
      "cell_type": "code",
      "execution_count": 11,
      "metadata": {
        "colab": {
          "base_uri": "https://localhost:8080/"
        },
        "id": "f_36rZRrLfP9",
        "outputId": "2797ab48-2f4d-4e59-c268-59906dc8e95c"
      },
      "outputs": [
        {
          "name": "stderr",
          "output_type": "stream",
          "text": [
            "/var/folders/sb/nxrzyd0n61192x17k7wcyr4w0000gn/T/ipykernel_27914/691021933.py:3: RuntimeWarning: overflow encountered in exp\n",
            "  return 1 / (1 + np.exp(-x))\n"
          ]
        }
      ],
      "source": [
        "assert sigmoid(0) == 0.5\n",
        "assert sigmoid(1) == 0.7310585786300049\n",
        "assert sigmoid(-1) == 0.2689414213699951\n",
        "assert sigmoid(9999999999999) == 1.0\n",
        "assert sigmoid(-9999999999999) == 0.0"
      ]
    },
    {
      "cell_type": "markdown",
      "metadata": {
        "id": "MEnLWtDCgWLF"
      },
      "source": [
        "[5.3] **TODO**: Define a function that will implement the derivative of the sigmoid function"
      ]
    },
    {
      "cell_type": "code",
      "execution_count": 12,
      "metadata": {
        "id": "OG3SorjugZyS"
      },
      "outputs": [],
      "source": [
        "# TODO (Students need to fill this section)\n",
        "def sigmoid_derivative(x):\n",
        "    return sigmoid(x) * (1 - sigmoid(x))"
      ]
    },
    {
      "cell_type": "markdown",
      "metadata": {
        "id": "vwVtASkEgeok"
      },
      "source": [
        "[5.2] Assert statements to check your sigmoid_derivative function is behaving as expected"
      ]
    },
    {
      "cell_type": "code",
      "execution_count": 13,
      "metadata": {
        "colab": {
          "base_uri": "https://localhost:8080/"
        },
        "id": "oVXCcUTZLUpj",
        "outputId": "50cae4fd-6d3d-4ac6-da38-548bea225fba"
      },
      "outputs": [
        {
          "name": "stderr",
          "output_type": "stream",
          "text": [
            "/var/folders/sb/nxrzyd0n61192x17k7wcyr4w0000gn/T/ipykernel_27914/691021933.py:3: RuntimeWarning: overflow encountered in exp\n",
            "  return 1 / (1 + np.exp(-x))\n"
          ]
        }
      ],
      "source": [
        "assert sigmoid_derivative(0) == 0.25\n",
        "assert sigmoid_derivative(1) == 0.19661193324148185\n",
        "assert sigmoid_derivative(-1) == 0.19661193324148185\n",
        "assert sigmoid_derivative(9999999999999) == 0.0\n",
        "assert sigmoid_derivative(-9999999999999) == 0.0"
      ]
    },
    {
      "cell_type": "markdown",
      "metadata": {
        "id": "LMacN5l4gkim"
      },
      "source": [
        "# 6. Forward Pass\n",
        "\n",
        "Now we have everything we need to implement the forward propagation"
      ]
    },
    {
      "cell_type": "markdown",
      "metadata": {
        "id": "ticTCz4Yg1Ze"
      },
      "source": [
        "[6.1] **TODO**: Define a function that will implement the forward pass (apply linear function on the input followed by the sigmoid activation function)"
      ]
    },
    {
      "cell_type": "code",
      "execution_count": 16,
      "metadata": {
        "id": "FuyjHgpahKD9"
      },
      "outputs": [],
      "source": [
        "# TODO (Students need to fill this section)\n",
        "def forward(X, weights, bias):\n",
        "    linear_result = linear(X, weights, bias)\n",
        "    return sigmoid(linear_result)"
      ]
    },
    {
      "cell_type": "markdown",
      "metadata": {
        "id": "l4ZI4yoDhPrX"
      },
      "source": [
        "[6.2] Assert statements to check your forward function is behaving as expected"
      ]
    },
    {
      "cell_type": "code",
      "execution_count": 17,
      "metadata": {
        "id": "ebJmLZQtNJMQ"
      },
      "outputs": [],
      "source": [
        "assert forward(X=input_set[0], weights=test_weights, bias=test_bias)[0] == 0.8248231247647452\n",
        "assert forward(X=input_set[1], weights=test_weights, bias=test_bias)[0] == 0.7909485322272701\n",
        "assert forward(X=input_set[2], weights=test_weights, bias=test_bias)[0] == 0.7257565873271445\n",
        "assert forward(X=input_set[3], weights=test_weights, bias=test_bias)[0] == 0.8725741389540382\n",
        "assert forward(X=input_set[4], weights=test_weights, bias=test_bias)[0] == 0.9343741240208852\n",
        "assert forward(X=input_set[5], weights=test_weights, bias=test_bias)[0] == 0.9073220375080315\n",
        "assert forward(X=input_set[6], weights=test_weights, bias=test_bias)[0] == 0.8248231247647452"
      ]
    },
    {
      "cell_type": "markdown",
      "metadata": {
        "id": "hLlcne6nhTiF"
      },
      "source": [
        "# 7. Calculate Error\n",
        "\n",
        "After the forward pass, the Neural Networks will calculate the error between its predictions (output of forward pass) and the actual targets."
      ]
    },
    {
      "cell_type": "markdown",
      "metadata": {
        "id": "ucesRV6mgi5Q"
      },
      "source": [
        "[7.1] **TODO**: Define a function that will implement the error calculation (difference between predictions and actual targets)"
      ]
    },
    {
      "cell_type": "code",
      "execution_count": 20,
      "metadata": {
        "id": "08oSjRvmh3_S"
      },
      "outputs": [],
      "source": [
        "# TODO (Students need to fill this section)\n",
        "def calculate_error(actual, pred):\n",
        "    return pred - actual"
      ]
    },
    {
      "cell_type": "markdown",
      "metadata": {
        "id": "X5TWDZdIh_-D"
      },
      "source": [
        "[7.2] Assert statements to check your calculate_error function is behaving as expected"
      ]
    },
    {
      "cell_type": "code",
      "execution_count": 21,
      "metadata": {
        "id": "GAWsb4KpOgL4"
      },
      "outputs": [],
      "source": [
        "test_actual = np.array([0,0,0,1,1,1])\n",
        "assert calculate_error(actual=test_actual, pred=[0,0,0,1,1,1]).sum() == 0\n",
        "assert calculate_error(actual=test_actual, pred=[0,0,0,1,1,0]).sum() == -1\n",
        "assert calculate_error(actual=test_actual, pred=[0,0,0,0,0,0]).sum() == -3"
      ]
    },
    {
      "cell_type": "markdown",
      "metadata": {
        "id": "JUulr3gZiUXx"
      },
      "source": [
        "# 8. Calculate Gradients\n",
        "Once the error has been calculated, a Neural Networks will use this information to update its weights accordingly."
      ]
    },
    {
      "cell_type": "markdown",
      "metadata": {
        "id": "zGcDakS9imth"
      },
      "source": [
        "[8.1] Let's creata function that calculate the gradients using the sigmoid derivative function and applying the chain rule."
      ]
    },
    {
      "cell_type": "code",
      "execution_count": 22,
      "metadata": {
        "id": "pvLIqdu9QQBg"
      },
      "outputs": [],
      "source": [
        "def calculate_gradients(pred, error, input):\n",
        "  dpred = sigmoid_derivative(pred)\n",
        "  z_del = error * dpred\n",
        "  gradients = np.dot(input.T, z_del)\n",
        "  return gradients, z_del"
      ]
    },
    {
      "cell_type": "markdown",
      "metadata": {
        "id": "VS4K4qlSi0kp"
      },
      "source": [
        "# 9. Training\n",
        "\n",
        "Now that we built all the components of a Neural Networks, we can finally train it on our dataset."
      ]
    },
    {
      "cell_type": "markdown",
      "metadata": {
        "id": "BcOC1D6LjKEX"
      },
      "source": [
        "[9.1] Create 2 variables called `weights` and `bias` that will respectively take the value of `init_weights` and `init_bias`"
      ]
    },
    {
      "cell_type": "code",
      "execution_count": 23,
      "metadata": {
        "id": "ohEe-udeOZR1"
      },
      "outputs": [],
      "source": [
        "weights = init_weights\n",
        "bias = init_bias"
      ]
    },
    {
      "cell_type": "markdown",
      "metadata": {
        "id": "L8_DzvuqjXOe"
      },
      "source": [
        "[9.2] Create a variable called `lr` that will be used as the learning rate for updating the weights"
      ]
    },
    {
      "cell_type": "code",
      "execution_count": 24,
      "metadata": {
        "id": "X2DFhqF4jJdz"
      },
      "outputs": [],
      "source": [
        "lr = 0.5"
      ]
    },
    {
      "cell_type": "markdown",
      "metadata": {
        "id": "QYt-FXr2jhNI"
      },
      "source": [
        "[9.3] Create a variable called `epochs` with the value 10000. This will the number of times the Neural Networks will process the entire dataset and update its weights"
      ]
    },
    {
      "cell_type": "code",
      "execution_count": 25,
      "metadata": {
        "id": "VS8BWdy5jlra"
      },
      "outputs": [],
      "source": [
        "epochs = 10000"
      ]
    },
    {
      "cell_type": "markdown",
      "metadata": {
        "id": "zrA8T0r0j0SO"
      },
      "source": [
        "[9.4] Create a for loop that will perform the training of our Neural Networks"
      ]
    },
    {
      "cell_type": "code",
      "execution_count": 26,
      "metadata": {
        "id": "VvACgpjDMPpI"
      },
      "outputs": [],
      "source": [
        "for epoch in range(epochs):\n",
        "    inputs = input_set\n",
        "\n",
        "    # Forward Propagation\n",
        "    z = forward(X=inputs, weights=weights, bias=bias)\n",
        "\n",
        "    # Error\n",
        "    error = calculate_error(actual=labels, pred=z)\n",
        "\n",
        "    # Back Propagation\n",
        "    gradients, z_del = calculate_gradients(pred=z, error=error, input=input_set)\n",
        "\n",
        "    # Update parameters\n",
        "    weights = weights - lr * gradients\n",
        "    for num in z_del:\n",
        "        bias = bias - lr * num\n"
      ]
    },
    {
      "cell_type": "markdown",
      "metadata": {
        "id": "K9jYXShpkEp7"
      },
      "source": [
        "[9.5] **TODO** Print the final values of `weights` and `bias`"
      ]
    },
    {
      "cell_type": "code",
      "execution_count": 27,
      "metadata": {
        "id": "POA_DyrRkPup"
      },
      "outputs": [
        {
          "name": "stdout",
          "output_type": "stream",
          "text": [
            "[[  9.3914502 ]\n",
            " [ 20.34119467]\n",
            " [-10.49443836]]\n",
            "[-14.56039845]\n"
          ]
        }
      ],
      "source": [
        "# TODO (Students need to fill this section)\n",
        "print(weights)\n",
        "print(bias)"
      ]
    },
    {
      "cell_type": "markdown",
      "metadata": {
        "id": "XAtGwsp6iNuw"
      },
      "source": [
        "# 10. Compare before and after training\n",
        "\n",
        "Let's compare the predictions of our Neural Networks before (using `init_weights` and `init_bias`) and after the training (using `weights` and `bias`)"
      ]
    },
    {
      "cell_type": "markdown",
      "metadata": {
        "id": "lU5T4iJTkv8j"
      },
      "source": [
        "[10.1] Create a function to display the values of a single observation from the dataset (using its index), the error and the actual target and prediction"
      ]
    },
    {
      "cell_type": "code",
      "execution_count": 28,
      "metadata": {
        "id": "j4yTdgGcQms5"
      },
      "outputs": [],
      "source": [
        "def compare_pred(weights, bias, index, X, y):\n",
        "    pred = forward(X=X[index], weights=weights, bias=bias)\n",
        "    actual = y[index]\n",
        "    error = calculate_error(actual, pred)\n",
        "    print(f\"{X[index]} - Error {error} - Actual: {actual} - Pred: {pred}\")"
      ]
    },
    {
      "cell_type": "markdown",
      "metadata": {
        "id": "kEK9e_0ulM-k"
      },
      "source": [
        "[10.2] Compare the results on the first observation (index 0)"
      ]
    },
    {
      "cell_type": "code",
      "execution_count": 29,
      "metadata": {
        "colab": {
          "base_uri": "https://localhost:8080/"
        },
        "id": "Q3FA6y1QQc-l",
        "outputId": "fa0f991d-5add-4288-fdcf-0c3a499a55e8"
      },
      "outputs": [
        {
          "name": "stdout",
          "output_type": "stream",
          "text": [
            "[0 1 0] - Error [-0.17517688] - Actual: [1] - Pred: [0.82482312]\n",
            "[0 1 0] - Error [-0.00307676] - Actual: [1] - Pred: [0.99692324]\n"
          ]
        }
      ],
      "source": [
        "compare_pred(weights=init_weights, bias=init_bias, index=0, X=input_set, y=labels)\n",
        "compare_pred(weights=weights, bias=bias, index=0, X=input_set, y=labels)"
      ]
    },
    {
      "cell_type": "markdown",
      "metadata": {
        "id": "emEbcf13lyjE"
      },
      "source": [
        "[10.3] Compare the results on the second observation (index 1)"
      ]
    },
    {
      "cell_type": "code",
      "execution_count": 30,
      "metadata": {
        "colab": {
          "base_uri": "https://localhost:8080/"
        },
        "id": "jQMJvQ_FlywM",
        "outputId": "cc7183bd-a7f9-4580-d7b9-42ee71689bbb"
      },
      "outputs": [
        {
          "name": "stdout",
          "output_type": "stream",
          "text": [
            "[0 0 1] - Error [0.79094853] - Actual: [0] - Pred: [0.79094853]\n",
            "[0 0 1] - Error [1.31468778e-11] - Actual: [0] - Pred: [1.31468778e-11]\n"
          ]
        }
      ],
      "source": [
        "compare_pred(weights=init_weights, bias=init_bias, index=1, X=input_set, y=labels)\n",
        "compare_pred(weights=weights, bias=bias, index=1, X=input_set, y=labels)"
      ]
    },
    {
      "cell_type": "markdown",
      "metadata": {
        "id": "BUtP4AmWld0f"
      },
      "source": [
        "[10.4] Compare the results on the third observation (index 2)"
      ]
    },
    {
      "cell_type": "code",
      "execution_count": 31,
      "metadata": {
        "colab": {
          "base_uri": "https://localhost:8080/"
        },
        "id": "imU4LVeqQTXg",
        "outputId": "8066db79-a31b-4105-9405-9ec862c3e670"
      },
      "outputs": [
        {
          "name": "stdout",
          "output_type": "stream",
          "text": [
            "[1 0 0] - Error [0.72575659] - Actual: [0] - Pred: [0.72575659]\n",
            "[1 0 0] - Error [0.00565835] - Actual: [0] - Pred: [0.00565835]\n"
          ]
        }
      ],
      "source": [
        "compare_pred(weights=init_weights, bias=init_bias, index=2, X=input_set, y=labels)\n",
        "compare_pred(weights=weights, bias=bias, index=2, X=input_set, y=labels)"
      ]
    },
    {
      "cell_type": "markdown",
      "metadata": {
        "id": "7n7_s2EAl7M2"
      },
      "source": [
        "[10.5] Compare the results on the forth observation (index 3)"
      ]
    },
    {
      "cell_type": "code",
      "execution_count": 32,
      "metadata": {
        "colab": {
          "base_uri": "https://localhost:8080/"
        },
        "id": "GFgNdYm0l7TD",
        "outputId": "39efefad-4e82-4fc4-be04-922eac82ae04"
      },
      "outputs": [
        {
          "name": "stdout",
          "output_type": "stream",
          "text": [
            "[1 1 0] - Error [-0.12742586] - Actual: [1] - Pred: [0.87257414]\n",
            "[1 1 0] - Error [-2.57499859e-07] - Actual: [1] - Pred: [0.99999974]\n"
          ]
        }
      ],
      "source": [
        "compare_pred(weights=init_weights, bias=init_bias, index=3, X=input_set, y=labels)\n",
        "compare_pred(weights=weights, bias=bias, index=3, X=input_set, y=labels)"
      ]
    },
    {
      "cell_type": "markdown",
      "metadata": {
        "id": "wnr_LygFmAvK"
      },
      "source": [
        "[10.6] Compare the results on the fifth observation (index 4)"
      ]
    },
    {
      "cell_type": "code",
      "execution_count": 33,
      "metadata": {
        "colab": {
          "base_uri": "https://localhost:8080/"
        },
        "id": "euONWlvWmA1o",
        "outputId": "b42db69e-bda8-41ce-ac9a-81bf813ec729"
      },
      "outputs": [
        {
          "name": "stdout",
          "output_type": "stream",
          "text": [
            "[1 1 1] - Error [-0.06562588] - Actual: [1] - Pred: [0.93437412]\n",
            "[1 1 1] - Error [-0.00921369] - Actual: [1] - Pred: [0.99078631]\n"
          ]
        }
      ],
      "source": [
        "compare_pred(weights=init_weights, bias=init_bias, index=4, X=input_set, y=labels)\n",
        "compare_pred(weights=weights, bias=bias, index=4, X=input_set, y=labels)"
      ]
    },
    {
      "cell_type": "markdown",
      "metadata": {
        "id": "exRMYCRKlhI3"
      },
      "source": [
        "[10.7] Compare the results on the sixth observation (index 5)"
      ]
    },
    {
      "cell_type": "code",
      "execution_count": 34,
      "metadata": {
        "colab": {
          "base_uri": "https://localhost:8080/"
        },
        "id": "e77HEuVWQN_9",
        "outputId": "2fc224d9-361d-4c6e-e544-3898b565c43d"
      },
      "outputs": [
        {
          "name": "stdout",
          "output_type": "stream",
          "text": [
            "[0 1 1] - Error [0.90732204] - Actual: [0] - Pred: [0.90732204]\n",
            "[0 1 1] - Error [0.00889226] - Actual: [0] - Pred: [0.00889226]\n"
          ]
        }
      ],
      "source": [
        "compare_pred(weights=init_weights, bias=init_bias, index=5, X=input_set, y=labels)\n",
        "compare_pred(weights=weights, bias=bias, index=5, X=input_set, y=labels)"
      ]
    },
    {
      "cell_type": "markdown",
      "metadata": {
        "id": "pumbj0jHmLur"
      },
      "source": [
        "[10.8] Compare the results on the sixth observation (index 5)"
      ]
    },
    {
      "cell_type": "code",
      "execution_count": 35,
      "metadata": {
        "id": "0glVvMi5mL1s"
      },
      "outputs": [
        {
          "name": "stdout",
          "output_type": "stream",
          "text": [
            "[0 1 0] - Error [-0.17517688] - Actual: [1] - Pred: [0.82482312]\n",
            "[0 1 0] - Error [-0.00307676] - Actual: [1] - Pred: [0.99692324]\n"
          ]
        }
      ],
      "source": [
        "compare_pred(weights=init_weights, bias=init_bias, index=6, X=input_set, y=labels)\n",
        "compare_pred(weights=weights, bias=bias, index=6, X=input_set, y=labels)"
      ]
    },
    {
      "cell_type": "markdown",
      "metadata": {
        "id": "TIKnRhySlqga"
      },
      "source": [
        "We can see after 10000 epochs, our Neural Networks is performing extremely well on our dataset. It has found pretty good values for the weights and bias to make accurate prediction."
      ]
    },
    {
      "cell_type": "markdown",
      "metadata": {
        "id": "C7SGwABjmqN7"
      },
      "source": [
        "Please submit this notebook into Canvas. Name it following this rule: *assignment1-partA-\\<student_id\\>.ipynb*"
      ]
    }
  ],
  "metadata": {
    "colab": {
      "provenance": []
    },
    "kernelspec": {
      "display_name": "Python 3",
      "name": "python3"
    },
    "language_info": {
      "codemirror_mode": {
        "name": "ipython",
        "version": 3
      },
      "file_extension": ".py",
      "mimetype": "text/x-python",
      "name": "python",
      "nbconvert_exporter": "python",
      "pygments_lexer": "ipython3",
      "version": "3.8.2"
    }
  },
  "nbformat": 4,
  "nbformat_minor": 0
}
